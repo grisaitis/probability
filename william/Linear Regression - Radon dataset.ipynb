{
 "cells": [
  {
   "cell_type": "code",
   "execution_count": 1,
   "metadata": {},
   "outputs": [],
   "source": [
    "import numpy as np\n",
    "import pandas as pd\n",
    "import tensorflow as tf"
   ]
  },
  {
   "cell_type": "code",
   "execution_count": 2,
   "metadata": {},
   "outputs": [],
   "source": [
    "df = pd.read_csv('https://raw.githubusercontent.com/pymc-devs/pymc3/master/pymc3/examples/data/radon.csv')"
   ]
  },
  {
   "cell_type": "code",
   "execution_count": 3,
   "metadata": {},
   "outputs": [
    {
     "data": {
      "text/plain": [
       "Unnamed: 0            0\n",
       "idnum              5081\n",
       "state                MN\n",
       "state2               MN\n",
       "stfips               27\n",
       "zip               55735\n",
       "region                5\n",
       "typebldg              1\n",
       "floor                 1\n",
       "room                  3\n",
       "basement              N\n",
       "windoor                \n",
       "rep                   2\n",
       "stratum               4\n",
       "wave                 41\n",
       "starttm             930\n",
       "stoptm              930\n",
       "startdt           12088\n",
       "stopdt            12288\n",
       "activity            2.2\n",
       "pcterr              9.7\n",
       "adjwt            1146.5\n",
       "dupflag               1\n",
       "zipflag               0\n",
       "cntyfips              1\n",
       "county           AITKIN\n",
       "fips              27001\n",
       "Uppm           0.502054\n",
       "county_code           0\n",
       "log_radon      0.832909\n",
       "Name: 0, dtype: object"
      ]
     },
     "execution_count": 3,
     "metadata": {},
     "output_type": "execute_result"
    }
   ],
   "source": [
    "df.iloc[0]  # print first row of data"
   ]
  },
  {
   "cell_type": "code",
   "execution_count": 4,
   "metadata": {},
   "outputs": [],
   "source": [
    "# make column for intercept / bias term\n",
    "df['intercept'] = 1\n",
    "# select feature columns for X\n",
    "X_data = df[['intercept', 'adjwt', 'Uppm', 'stfips', 'activity', 'pcterr']].values\n",
    "# select output column for y\n",
    "y_data = df[['log_radon']].values\n"
   ]
  },
  {
   "cell_type": "code",
   "execution_count": 5,
   "metadata": {},
   "outputs": [
    {
     "data": {
      "text/plain": [
       "(919, 6)"
      ]
     },
     "execution_count": 5,
     "metadata": {},
     "output_type": "execute_result"
    }
   ],
   "source": [
    "N, k = X_data.shape\n",
    "N, k"
   ]
  },
  {
   "cell_type": "code",
   "execution_count": 6,
   "metadata": {},
   "outputs": [],
   "source": [
    "X_train, X_test = X_data[:600], X_data[600:]\n",
    "y_train, y_test = y_data[:600], y_data[600:]"
   ]
  },
  {
   "cell_type": "code",
   "execution_count": 7,
   "metadata": {},
   "outputs": [
    {
     "data": {
      "text/plain": [
       "((600, 6), (319, 6), (600, 1), (319, 1))"
      ]
     },
     "execution_count": 7,
     "metadata": {},
     "output_type": "execute_result"
    }
   ],
   "source": [
    "X_train.shape, X_test.shape, y_train.shape, y_test.shape"
   ]
  },
  {
   "cell_type": "code",
   "execution_count": 8,
   "metadata": {},
   "outputs": [],
   "source": [
    "with tf.name_scope('input'):\n",
    "    X = tf.placeholder(tf.float32, [None, k])\n",
    "    y = tf.placeholder(tf.float32, [None, 1])\n",
    "with tf.name_scope('training'):\n",
    "    with tf.name_scope('model'):\n",
    "        W = tf.Variable(tf.zeros([k, 1]))\n",
    "        y_hat = tf.matmul(X, W)\n",
    "    with tf.name_scope('loss'):\n",
    "        loss = tf.reduce_mean(tf.square(y_hat - y))\n",
    "        optimizer = tf.train.AdamOptimizer(learning_rate=0.0001)\n",
    "        train_step = optimizer.minimize(loss)\n"
   ]
  },
  {
   "cell_type": "code",
   "execution_count": 9,
   "metadata": {},
   "outputs": [
    {
     "name": "stdout",
     "output_type": "stream",
     "text": [
      "Epoch: 000000 | Train R^2: 0.129958 | Test R^2: 0.092816\n",
      "Epoch: 001000 | Train R^2: 0.892442 | Test R^2: 0.920049\n",
      "Epoch: 002000 | Train R^2: 0.911469 | Test R^2: 0.941411\n",
      "Epoch: 003000 | Train R^2: 0.915276 | Test R^2: 0.946933\n",
      "Epoch: 004000 | Train R^2: 0.915539 | Test R^2: 0.947718\n",
      "Epoch: 005000 | Train R^2: 0.915586 | Test R^2: 0.947759\n",
      "Epoch: 006000 | Train R^2: 0.915614 | Test R^2: 0.947728\n",
      "Epoch: 007000 | Train R^2: 0.915622 | Test R^2: 0.947685\n",
      "Epoch: 008000 | Train R^2: 0.915624 | Test R^2: 0.947676\n",
      "Epoch: 009000 | Train R^2: 0.915624 | Test R^2: 0.947665\n",
      "Epoch: 010000 | Train R^2: 0.915624 | Test R^2: 0.947671\n",
      "Epoch: 011000 | Train R^2: 0.915624 | Test R^2: 0.947671\n",
      "Epoch: 012000 | Train R^2: 0.915624 | Test R^2: 0.947671\n",
      "Epoch: 013000 | Train R^2: 0.915624 | Test R^2: 0.947671\n",
      "Epoch: 014000 | Train R^2: 0.915624 | Test R^2: 0.947671\n",
      "Epoch: 015000 | Train R^2: 0.915624 | Test R^2: 0.947671\n",
      "Epoch: 016000 | Train R^2: 0.915624 | Test R^2: 0.947671\n",
      "Epoch: 017000 | Train R^2: 0.915624 | Test R^2: 0.947671\n",
      "Epoch: 018000 | Train R^2: 0.915624 | Test R^2: 0.947671\n",
      "Epoch: 019000 | Train R^2: 0.915624 | Test R^2: 0.947671\n",
      "Epoch: 020000 | Train R^2: 0.915624 | Test R^2: 0.947671\n"
     ]
    }
   ],
   "source": [
    "initializer = tf.global_variables_initializer()\n",
    "with tf.Session() as sess:\n",
    "    sess.run(initializer)\n",
    "    for epoch in range(0, 20000 + 1):\n",
    "        sess.run(train_step, feed_dict={X:X_train, y:y_train})\n",
    "        if epoch % 1000 == 0:\n",
    "            y_pred = sess.run(y_hat, feed_dict={X:X_test})\n",
    "            r_squared_test = 1 - tf.reduce_mean(tf.square(y_pred - y_test)) / tf.reduce_mean(tf.square(y_test))\n",
    "            y_pred = sess.run(y_hat, feed_dict={X:X_train})\n",
    "            r_squared_train = 1 - tf.reduce_mean(tf.square(y_pred - y_train)) / tf.reduce_mean(tf.square(y_train))\n",
    "            print(\"Epoch: %06d | Train R^2: %06f | Test R^2: %06f\" % (\n",
    "                epoch,\n",
    "                sess.run(r_squared_train),\n",
    "                sess.run(r_squared_test)))"
   ]
  },
  {
   "cell_type": "code",
   "execution_count": null,
   "metadata": {},
   "outputs": [],
   "source": []
  },
  {
   "cell_type": "code",
   "execution_count": null,
   "metadata": {},
   "outputs": [],
   "source": []
  },
  {
   "cell_type": "code",
   "execution_count": null,
   "metadata": {},
   "outputs": [],
   "source": []
  }
 ],
 "metadata": {
  "kernelspec": {
   "display_name": "Python 3",
   "language": "python",
   "name": "python3"
  },
  "language_info": {
   "codemirror_mode": {
    "name": "ipython",
    "version": 3
   },
   "file_extension": ".py",
   "mimetype": "text/x-python",
   "name": "python",
   "nbconvert_exporter": "python",
   "pygments_lexer": "ipython3",
   "version": "3.5.2"
  }
 },
 "nbformat": 4,
 "nbformat_minor": 2
}
